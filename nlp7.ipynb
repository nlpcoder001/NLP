{
 "cells": [
  {
   "cell_type": "code",
   "execution_count": 1,
   "metadata": {},
   "outputs": [],
   "source": [
    "#Importing Required Libraries\n",
    "import nltk\n",
    "\n",
    "def chunk_text(text):\n",
    "    # Tokenize into sentences\n",
    "    sentences = nltk.sent_tokenize(text)\n",
    "\n",
    "    for sentence in sentences:\n",
    "        # Tokenize words in each sentence\n",
    "        words = nltk.word_tokenize(sentence)\n",
    "\n",
    "        # Part-of-speech tagging\n",
    "        tagged_words = nltk.pos_tag(words)\n",
    "\n",
    "        # Define a chunk grammar, e.g. a rule that says: whenever you find an adjective (JJ) \n",
    "        #followed by one or more nouns (NN), chunk them together\n",
    "        chunk_grammar = \"NP: {<DT>?<JJ>*<NN>}\"\n",
    "\n",
    "        # Parse the sentence using the chunk grammar\n",
    "        chunk_parser = nltk.RegexpParser(chunk_grammar)\n",
    "        chunked_sentence = chunk_parser.parse(tagged_words)\n",
    "\n",
    "        print(chunked_sentence)"
   ]
  },
  {
   "cell_type": "code",
   "execution_count": 2,
   "metadata": {},
   "outputs": [
    {
     "name": "stdout",
     "output_type": "stream",
     "text": [
      "(S\n",
      "  (NP The/DT quick/JJ brown/NN)\n",
      "  (NP fox/NN)\n",
      "  jumps/VBZ\n",
      "  over/IN\n",
      "  (NP the/DT lazy/JJ dog/NN)\n",
      "  ./.)\n"
     ]
    }
   ],
   "source": [
    "text = \"The quick brown fox jumps over the lazy dog.\"\n",
    "chunk_text(text)"
   ]
  },
  {
   "cell_type": "code",
   "execution_count": null,
   "metadata": {},
   "outputs": [],
   "source": []
  }
 ],
 "metadata": {
  "kernelspec": {
   "display_name": "base",
   "language": "python",
   "name": "python3"
  },
  "language_info": {
   "codemirror_mode": {
    "name": "ipython",
    "version": 3
   },
   "file_extension": ".py",
   "mimetype": "text/x-python",
   "name": "python",
   "nbconvert_exporter": "python",
   "pygments_lexer": "ipython3",
   "version": "3.9.18"
  }
 },
 "nbformat": 4,
 "nbformat_minor": 2
}
