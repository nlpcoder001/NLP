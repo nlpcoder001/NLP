{
 "cells": [
  {
   "cell_type": "markdown",
   "metadata": {},
   "source": [
    "#### Importing the Required Libraries"
   ]
  },
  {
   "cell_type": "code",
   "execution_count": 1,
   "metadata": {},
   "outputs": [],
   "source": [
    "from sklearn.feature_extraction.text import TfidfVectorizer\n",
    "from sklearn.metrics.pairwise import cosine_similarity"
   ]
  },
  {
   "cell_type": "markdown",
   "metadata": {},
   "source": [
    "#### Main Function"
   ]
  },
  {
   "cell_type": "code",
   "execution_count": 2,
   "metadata": {},
   "outputs": [],
   "source": [
    "def find_most_similar(input_sentence, sentences):\n",
    "    vectorizer = TfidfVectorizer().fit_transform(sentences + [input_sentence])\n",
    "    vectors = vectorizer.toarray()\n",
    "\n",
    "    input_vector = vectors[-1]\n",
    "    sentence_vectors = vectors[:-1]\n",
    "\n",
    "    similarities = cosine_similarity([input_vector], sentence_vectors)[0]\n",
    "    most_similar_index = similarities.argmax()\n",
    "    most_similar_sentence = sentences[most_similar_index]\n",
    "\n",
    "    return most_similar_sentence, similarities[most_similar_index]"
   ]
  },
  {
   "cell_type": "markdown",
   "metadata": {},
   "source": [
    "#### Loading the text file"
   ]
  },
  {
   "cell_type": "code",
   "execution_count": 3,
   "metadata": {},
   "outputs": [],
   "source": [
    "with open(\"sentences.txt\", \"r\") as file:\n",
    "    sentences=(file.readlines())\n",
    "    file.close()\n",
    "for i in range(len(sentences)):\n",
    "    sentences[i]=sentences[i].strip(\"\\n\")"
   ]
  },
  {
   "cell_type": "markdown",
   "metadata": {},
   "source": [
    "#### Printing the result"
   ]
  },
  {
   "cell_type": "code",
   "execution_count": 6,
   "metadata": {},
   "outputs": [
    {
     "name": "stdout",
     "output_type": "stream",
     "text": [
      "The most similar sentence to 'The quick brown dog jumps' \n",
      "is 'The quick brown fox jumps over the lazy dog.' \n",
      "with a similarity of 0.7356314928034642\n"
     ]
    }
   ],
   "source": [
    "# And 'input_sentence' is the sentence you want to compare\n",
    "input_sentence = \"The quick brown dog jumps\"\n",
    "\n",
    "most_similar_sentence, similarity = find_most_similar(input_sentence, sentences)\n",
    "\n",
    "print(f\"The most similar sentence to '{input_sentence}' \\nis '{most_similar_sentence}' \\nwith a similarity of {similarity}\")"
   ]
  },
  {
   "cell_type": "code",
   "execution_count": null,
   "metadata": {},
   "outputs": [],
   "source": []
  }
 ],
 "metadata": {
  "kernelspec": {
   "display_name": "base",
   "language": "python",
   "name": "python3"
  },
  "language_info": {
   "codemirror_mode": {
    "name": "ipython",
    "version": 3
   },
   "file_extension": ".py",
   "mimetype": "text/x-python",
   "name": "python",
   "nbconvert_exporter": "python",
   "pygments_lexer": "ipython3",
   "version": "3.9.18"
  }
 },
 "nbformat": 4,
 "nbformat_minor": 2
}
