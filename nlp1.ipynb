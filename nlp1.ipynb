{
 "cells": [
  {
   "cell_type": "code",
   "execution_count": 2,
   "metadata": {},
   "outputs": [
    {
     "name": "stdout",
     "output_type": "stream",
     "text": [
      "'Wolf' is a simple word.\n",
      "'Rich' is a simple word.\n",
      "'extrapolate' is a complex word.\n",
      "'Eternity' is a complex word.\n",
      "'Immoral' is a complex word.\n",
      "'Cat' is a simple word.\n",
      "'Happy' is a simple word.\n",
      "'Benevolence' is a complex word.\n",
      "'Philosophy' is a complex word.\n",
      "'Extrapolate' is a complex word.\n"
     ]
    }
   ],
   "source": [
    "import nltk\n",
    "from nltk.corpus import cmudict\n",
    "# Load the CMU Pronouncing Dictionary\n",
    "d = cmudict.dict()\n",
    "def count_syllables(word):\n",
    "    \"\"\"Return the number of syllables in a word according to the CMU dict.\"\"\"\n",
    "    return [len(list(y for y in x if y[-1].isdigit())) for x in d[word.lower()]][0]\n",
    "def is_complex(word, threshold=2):\n",
    "    \"\"\"Determine if a word is complex based on a syllable threshold.\"\"\"\n",
    "    try:\n",
    "        return count_syllables(word) > threshold\n",
    "    except KeyError:\n",
    "        # Word not found in CMU dict\n",
    "        return None\n",
    "# Example words\n",
    "words = [\"Wolf\", \"Rich\", \"extrapolate\", \"Eternity\", \"Immoral\", \"Cat\", \"Happy\", \"Benevolence\", \"Philosophy\", \"Extrapolate\"]\n",
    "# Analyze words\n",
    "for word in words:\n",
    "    complexity = is_complex(word)\n",
    "    if complexity is None:\n",
    "        print(f\"'{word}' not found in CMU dict.\")\n",
    "    elif complexity:\n",
    "        print(f\"'{word}' is a complex word.\")\n",
    "    else:\n",
    "        print(f\"'{word}' is a simple word.\")\n"
   ]
  },
  {
   "cell_type": "code",
   "execution_count": null,
   "metadata": {},
   "outputs": [],
   "source": []
  }
 ],
 "metadata": {
  "kernelspec": {
   "display_name": "base",
   "language": "python",
   "name": "python3"
  },
  "language_info": {
   "codemirror_mode": {
    "name": "ipython",
    "version": 3
   },
   "file_extension": ".py",
   "mimetype": "text/x-python",
   "name": "python",
   "nbconvert_exporter": "python",
   "pygments_lexer": "ipython3",
   "version": "3.9.18"
  }
 },
 "nbformat": 4,
 "nbformat_minor": 2
}
