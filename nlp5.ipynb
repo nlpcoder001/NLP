{
 "cells": [
  {
   "cell_type": "markdown",
   "metadata": {},
   "source": [
    "#### Importing the Required Libraries"
   ]
  },
  {
   "cell_type": "code",
   "execution_count": 1,
   "metadata": {},
   "outputs": [
    {
     "name": "stdout",
     "output_type": "stream",
     "text": [
      "WARNING:tensorflow:From C:\\Users\\aakan\\AppData\\Roaming\\Python\\Python39\\site-packages\\keras\\src\\losses.py:2976: The name tf.losses.sparse_softmax_cross_entropy is deprecated. Please use tf.compat.v1.losses.sparse_softmax_cross_entropy instead.\n",
      "\n"
     ]
    }
   ],
   "source": [
    "import spacy\n",
    "import nltk"
   ]
  },
  {
   "cell_type": "markdown",
   "metadata": {},
   "source": [
    "#### Constituent Parsing"
   ]
  },
  {
   "cell_type": "code",
   "execution_count": 5,
   "metadata": {},
   "outputs": [],
   "source": [
    "nlp=spacy.load(\"en_core_web_sm\")\n",
    "def constituent_parsing(text):\n",
    "    #Tokenization\n",
    "    tokens=nltk.word_tokenize(text)\n",
    "\n",
    "    #POS Tagging\n",
    "    pos_tags=nltk.pos_tag(tokens)\n",
    "\n",
    "    #Named Entity Recognition\n",
    "    ne_chunks=nltk.ne_chunk(pos_tags)\n",
    "\n",
    "    return ne_chunks\n",
    "\n"
   ]
  },
  {
   "cell_type": "markdown",
   "metadata": {},
   "source": [
    "#### Probabilistic Parsing"
   ]
  },
  {
   "cell_type": "code",
   "execution_count": 11,
   "metadata": {},
   "outputs": [],
   "source": [
    "def probabilistic_parsing(text):\n",
    "    doc=nlp(text)\n",
    "\n",
    "    #Getting Syntactic Information\n",
    "    for token in doc:\n",
    "        print(f\"Token: {token.text}, POS: {token.pos_}, Dependancy: {token.dep_}\")"
   ]
  },
  {
   "cell_type": "code",
   "execution_count": 10,
   "metadata": {},
   "outputs": [
    {
     "name": "stdout",
     "output_type": "stream",
     "text": [
      "Constituent Parsing:\n",
      "\n",
      "(S\n",
      "  The/DT\n",
      "  quick/JJ\n",
      "  brown/NN\n",
      "  fox/NN\n",
      "  jumps/VBZ\n",
      "  over/IN\n",
      "  the/DT\n",
      "  lazy/JJ\n",
      "  dog/NN\n",
      "  ./.)\n",
      "\n",
      "\n",
      "Probabilistic Parsing:\n",
      "\n",
      "Token: The, POS: DET, Dependancy: det\n",
      "Token: quick, POS: ADJ, Dependancy: amod\n",
      "Token: brown, POS: ADJ, Dependancy: amod\n",
      "Token: fox, POS: NOUN, Dependancy: nsubj\n",
      "Token: jumps, POS: VERB, Dependancy: ROOT\n",
      "Token: over, POS: ADP, Dependancy: prep\n",
      "Token: the, POS: DET, Dependancy: det\n",
      "Token: lazy, POS: ADJ, Dependancy: amod\n",
      "Token: dog, POS: NOUN, Dependancy: pobj\n",
      "Token: ., POS: PUNCT, Dependancy: punct\n"
     ]
    }
   ],
   "source": [
    "sentence=\"The quick brown fox jumps over the lazy dog.\"\n",
    "\n",
    "#Constituent Parsing\n",
    "print(\"Constituent Parsing:\\n\")\n",
    "print(constituent_parsing(sentence))\n",
    "print(\"\\n\")\n",
    "\n",
    "#Probabilistic Parsing\n",
    "print(\"Probabilistic Parsing:\\n\")\n",
    "probabilistic_parsing(sentence)"
   ]
  }
 ],
 "metadata": {
  "kernelspec": {
   "display_name": "base",
   "language": "python",
   "name": "python3"
  },
  "language_info": {
   "codemirror_mode": {
    "name": "ipython",
    "version": 3
   },
   "file_extension": ".py",
   "mimetype": "text/x-python",
   "name": "python",
   "nbconvert_exporter": "python",
   "pygments_lexer": "ipython3",
   "version": "3.9.18"
  }
 },
 "nbformat": 4,
 "nbformat_minor": 2
}
