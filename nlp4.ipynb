{
 "cells": [
  {
   "cell_type": "markdown",
   "metadata": {},
   "source": [
    "#### Importing the required Libraries"
   ]
  },
  {
   "cell_type": "code",
   "execution_count": 4,
   "metadata": {},
   "outputs": [],
   "source": [
    "import nltk\n",
    "from nltk.corpus import stopwords\n",
    "from nltk.tokenize import word_tokenize"
   ]
  },
  {
   "cell_type": "markdown",
   "metadata": {},
   "source": [
    "#### Removing StopWords"
   ]
  },
  {
   "cell_type": "code",
   "execution_count": 5,
   "metadata": {},
   "outputs": [],
   "source": [
    "def remove_stopwords(text):\n",
    "    stop_words = set(stopwords.words('english'))\n",
    "    \n",
    "    word_tokens = word_tokenize(text)\n",
    "    \n",
    "    filtered_text = [word for word in word_tokens if word.casefold() not in stop_words]\n",
    "    \n",
    "    return \" \".join(filtered_text)"
   ]
  },
  {
   "cell_type": "code",
   "execution_count": 6,
   "metadata": {},
   "outputs": [
    {
     "name": "stdout",
     "output_type": "stream",
     "text": [
      "Original: The quick brown fox jumps over the lazy dog.\n",
      "Filtered: quick brown fox jumps lazy dog .\n",
      "\n",
      "Original: I love to play football in the park.\n",
      "Filtered: love play football park .\n",
      "\n",
      "Original: She is baking a cake for her grandmother's birthday.\n",
      "Filtered: baking cake grandmother 's birthday .\n",
      "\n",
      "Original: It is a beautiful day outside.\n",
      "Filtered: beautiful day outside .\n",
      "\n",
      "Original: He is reading a book about the history of the United States.\n",
      "Filtered: reading book history United States .\n",
      "\n",
      "Original: We are planning to go on a road trip next weekend.\n",
      "Filtered: planning go road trip next weekend .\n",
      "\n",
      "Original: She is practicing piano for her upcoming recital.\n",
      "Filtered: practicing piano upcoming recital .\n",
      "\n",
      "Original: The kids are playing in the garden.\n",
      "Filtered: kids playing garden .\n",
      "\n",
      "Original: He is preparing a report for his next meeting.\n",
      "Filtered: preparing report next meeting .\n",
      "\n",
      "Original: They are watching a movie at the cinema.\n",
      "Filtered: watching movie cinema .\n",
      "\n"
     ]
    }
   ],
   "source": [
    "sentences = [\n",
    "    \"The quick brown fox jumps over the lazy dog.\",\n",
    "    \"I love to play football in the park.\",\n",
    "    \"She is baking a cake for her grandmother's birthday.\",\n",
    "    \"It is a beautiful day outside.\",\n",
    "    \"He is reading a book about the history of the United States.\",\n",
    "    \"We are planning to go on a road trip next weekend.\",\n",
    "    \"She is practicing piano for her upcoming recital.\",\n",
    "    \"The kids are playing in the garden.\",\n",
    "    \"He is preparing a report for his next meeting.\",\n",
    "    \"They are watching a movie at the cinema.\"\n",
    "]\n",
    "\n",
    "for sentence in sentences:\n",
    "    print(f\"Original: {sentence}\")\n",
    "    print(f\"Filtered: {remove_stopwords(sentence)}\\n\")\n"
   ]
  },
  {
   "cell_type": "code",
   "execution_count": null,
   "metadata": {},
   "outputs": [],
   "source": []
  }
 ],
 "metadata": {
  "kernelspec": {
   "display_name": "base",
   "language": "python",
   "name": "python3"
  },
  "language_info": {
   "codemirror_mode": {
    "name": "ipython",
    "version": 3
   },
   "file_extension": ".py",
   "mimetype": "text/x-python",
   "name": "python",
   "nbconvert_exporter": "python",
   "pygments_lexer": "ipython3",
   "version": "3.9.18"
  }
 },
 "nbformat": 4,
 "nbformat_minor": 2
}
