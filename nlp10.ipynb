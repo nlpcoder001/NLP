{
 "cells": [
  {
   "cell_type": "markdown",
   "metadata": {},
   "source": [
    "#### Machine Learning based text classification "
   ]
  },
  {
   "cell_type": "code",
   "execution_count": 43,
   "metadata": {},
   "outputs": [
    {
     "name": "stdout",
     "output_type": "stream",
     "text": [
      "Accuracy: 61.5 %\n"
     ]
    }
   ],
   "source": [
    "#importing required libraries\n",
    "from sklearn.feature_extraction.text import CountVectorizer\n",
    "from sklearn.model_selection import train_test_split\n",
    "from sklearn.naive_bayes import MultinomialNB\n",
    "from sklearn.metrics import accuracy_score\n",
    "import pandas as pd\n",
    "from sklearn.preprocessing import LabelEncoder\n",
    "\n",
    "\n",
    "#Loading the dataset\n",
    "df=pd.read_excel(r\"C:\\Users\\aakan\\Music\\py\\projects\\British Airways\\Analyzed Dataset (Task 1).xlsx\")\n",
    "\n",
    "#Using only 50 rows of data\n",
    "df2=df[:50]\n",
    "\n",
    "#Dropping Unecessary Columns\n",
    "df2=df2.drop(columns=['Unnamed: 0.1', 'Unnamed: 0', 'Reviewer', 'PlaceofReview', 'ReviewHeading', 'Review', 'POS tagged', 'Lemma', 'Sentiment'])\n",
    "\n",
    "#Label Encoding the dataset\n",
    "le=LabelEncoder()\n",
    "df2['Analysis']=le.fit_transform(df2[\"Analysis\"])\n",
    "\n",
    "# Convert text documents to a matrix of token counts\n",
    "count_vectorizer = CountVectorizer()\n",
    "X = count_vectorizer.fit_transform(df2[\"Cleaned Reviews\"])\n",
    "\n",
    "# Split data into training and test sets\n",
    "X_train, X_test, y_train, y_test = train_test_split(X, df2[\"Analysis\"], test_size=0.25, random_state=42)\n",
    "\n",
    "# Training a Multinomial Naive Bayes classifier\n",
    "clf = MultinomialNB()\n",
    "clf.fit(X_train, y_train)\n",
    "\n",
    "# Predict on the test set\n",
    "y_pred = clf.predict(X_test)\n",
    "\n",
    "# Calculate accuracy\n",
    "accuracy = accuracy_score(y_test, y_pred)\n",
    "print(f'Accuracy: {round(accuracy,3)*100} %')\n",
    "\n",
    "#Prediction Function\n",
    "def pred(review):\n",
    "    X_new=count_vectorizer.transform([review])\n",
    "    p=str(clf.predict(X_new))\n",
    "    if p=='[0]':\n",
    "        print(\"Negative Review\")\n",
    "    elif p=='[2]':\n",
    "        print(\"Positive Review\")"
   ]
  },
  {
   "cell_type": "code",
   "execution_count": 41,
   "metadata": {},
   "outputs": [
    {
     "name": "stdout",
     "output_type": "stream",
     "text": [
      "Positive Review\n"
     ]
    }
   ],
   "source": [
    "#Example with Positive Review\n",
    "pred(\"Best flight\")"
   ]
  },
  {
   "cell_type": "code",
   "execution_count": 42,
   "metadata": {},
   "outputs": [
    {
     "name": "stdout",
     "output_type": "stream",
     "text": [
      "Negative Review\n"
     ]
    }
   ],
   "source": [
    "#Example with Negative Review\n",
    "pred(\"Worst flight\")"
   ]
  }
 ],
 "metadata": {
  "kernelspec": {
   "display_name": "base",
   "language": "python",
   "name": "python3"
  },
  "language_info": {
   "codemirror_mode": {
    "name": "ipython",
    "version": 3
   },
   "file_extension": ".py",
   "mimetype": "text/x-python",
   "name": "python",
   "nbconvert_exporter": "python",
   "pygments_lexer": "ipython3",
   "version": "3.9.18"
  }
 },
 "nbformat": 4,
 "nbformat_minor": 2
}
