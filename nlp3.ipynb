{
 "cells": [
  {
   "cell_type": "code",
   "execution_count": 1,
   "metadata": {},
   "outputs": [],
   "source": [
    "import nltk \n",
    "from nltk.metrics.distance import jaccard_distance \n",
    "from nltk.util import ngrams"
   ]
  },
  {
   "cell_type": "code",
   "execution_count": 2,
   "metadata": {},
   "outputs": [],
   "source": [
    "from nltk.corpus import words \n",
    "correct_words = words.words()"
   ]
  },
  {
   "cell_type": "code",
   "execution_count": 3,
   "metadata": {},
   "outputs": [
    {
     "name": "stdout",
     "output_type": "stream",
     "text": [
      "happy\n",
      "gaining\n",
      "intelligent\n"
     ]
    }
   ],
   "source": [
    "incorrect_words=['happpy', 'gazmaing', 'intelliengt'] \n",
    "\n",
    "for word in incorrect_words: \n",
    "\ttemp = [(jaccard_distance(set(ngrams(word, 2)), \n",
    "\t\t\t\t\t\t\tset(ngrams(w, 2))),w) \n",
    "\t\t\tfor w in correct_words if w[0]==word[0]] \n",
    "\tprint(sorted(temp, key = lambda val:val[0])[0][1])\n"
   ]
  },
  {
   "cell_type": "code",
   "execution_count": 6,
   "metadata": {},
   "outputs": [],
   "source": [
    "from nltk.metrics.distance  import edit_distance "
   ]
  },
  {
   "cell_type": "code",
   "execution_count": 8,
   "metadata": {},
   "outputs": [
    {
     "name": "stdout",
     "output_type": "stream",
     "text": [
      "happy\n",
      "gaming\n",
      "intelligent\n"
     ]
    }
   ],
   "source": [
    "# list of incorrect spellings \n",
    "# that need to be corrected \n",
    "incorrect_words=['happpy', 'gazmaing', 'intelliengt'] \n",
    "\n",
    "# loop for finding correct spellings \n",
    "# based on edit distance and \n",
    "# printing the correct words \n",
    "for word in incorrect_words: \n",
    "\ttemp = [(edit_distance(word, w),w) for w in correct_words if w[0]==word[0]] \n",
    "\tprint(sorted(temp, key = lambda val:val[0])[0][1]) \n"
   ]
  },
  {
   "cell_type": "code",
   "execution_count": null,
   "metadata": {},
   "outputs": [],
   "source": []
  }
 ],
 "metadata": {
  "kernelspec": {
   "display_name": "base",
   "language": "python",
   "name": "python3"
  },
  "language_info": {
   "codemirror_mode": {
    "name": "ipython",
    "version": 3
   },
   "file_extension": ".py",
   "mimetype": "text/x-python",
   "name": "python",
   "nbconvert_exporter": "python",
   "pygments_lexer": "ipython3",
   "version": "3.9.18"
  }
 },
 "nbformat": 4,
 "nbformat_minor": 2
}
